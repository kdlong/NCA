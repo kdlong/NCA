{
 "cells": [
  {
   "cell_type": "code",
   "execution_count": 30,
   "id": "8b89dff8",
   "metadata": {},
   "outputs": [],
   "source": [
    "import pandas as pd\n",
    "import matplotlib.pyplot as plt\n",
    "import numpy as np\n",
    "import hist\n",
    "from sklearn.linear_model import LogisticRegression\n",
    "import statsmodels.api as sm\n",
    "from utils import data_prep\n",
    "from lifelines import KaplanMeierFitter"
   ]
  },
  {
   "cell_type": "code",
   "execution_count": 276,
   "id": "9ad38255",
   "metadata": {},
   "outputs": [
    {
     "name": "stdout",
     "output_type": "stream",
     "text": [
      "The autoreload extension is already loaded. To reload it, use:\n",
      "  %reload_ext autoreload\n"
     ]
    }
   ],
   "source": [
    "%load_ext autoreload\n",
    "%autoreload 2"
   ]
  },
  {
   "cell_type": "code",
   "execution_count": 4,
   "id": "4c69d1b6",
   "metadata": {},
   "outputs": [],
   "source": [
    "# Load data, converting columns types for convenience, labeling NAs\n",
    "df = data_prep.load_and_prep_data(\"data/ncdatachallenge-2021-v1.csv\")"
   ]
  },
  {
   "cell_type": "code",
   "execution_count": 95,
   "id": "5a315f0d",
   "metadata": {},
   "outputs": [
    {
     "data": {
      "text/html": [
       "<div>\n",
       "<style scoped>\n",
       "    .dataframe tbody tr th:only-of-type {\n",
       "        vertical-align: middle;\n",
       "    }\n",
       "\n",
       "    .dataframe tbody tr th {\n",
       "        vertical-align: top;\n",
       "    }\n",
       "\n",
       "    .dataframe thead th {\n",
       "        text-align: right;\n",
       "    }\n",
       "</style>\n",
       "<table border=\"1\" class=\"dataframe\">\n",
       "  <thead>\n",
       "    <tr style=\"text-align: right;\">\n",
       "      <th></th>\n",
       "      <th>bmi</th>\n",
       "      <th>age</th>\n",
       "      <th>country</th>\n",
       "      <th>been_pregnant_before</th>\n",
       "      <th>education</th>\n",
       "      <th>sleeping_pattern</th>\n",
       "      <th>n_cycles_trying</th>\n",
       "      <th>outcome</th>\n",
       "      <th>dedication</th>\n",
       "      <th>average_cycle_length</th>\n",
       "      <th>cycle_length_std</th>\n",
       "      <th>regular_cycle</th>\n",
       "      <th>intercourse_frequency</th>\n",
       "      <th>pregnant</th>\n",
       "    </tr>\n",
       "  </thead>\n",
       "  <tbody>\n",
       "    <tr>\n",
       "      <th>0</th>\n",
       "      <td>22.942130</td>\n",
       "      <td>31</td>\n",
       "      <td>SE</td>\n",
       "      <td>No, never</td>\n",
       "      <td>University</td>\n",
       "      <td>Wake same every workday</td>\n",
       "      <td>1</td>\n",
       "      <td>pregnant</td>\n",
       "      <td>0.640000</td>\n",
       "      <td>25.588235</td>\n",
       "      <td>2.526332</td>\n",
       "      <td>True</td>\n",
       "      <td>0.200000</td>\n",
       "      <td>True</td>\n",
       "    </tr>\n",
       "    <tr>\n",
       "      <th>1</th>\n",
       "      <td>19.886054</td>\n",
       "      <td>34</td>\n",
       "      <td>Unreported</td>\n",
       "      <td>Unreported</td>\n",
       "      <td>University</td>\n",
       "      <td>Unreported</td>\n",
       "      <td>7</td>\n",
       "      <td>pregnant</td>\n",
       "      <td>0.009569</td>\n",
       "      <td>30.875000</td>\n",
       "      <td>3.522884</td>\n",
       "      <td>True</td>\n",
       "      <td>0.052632</td>\n",
       "      <td>True</td>\n",
       "    </tr>\n",
       "    <tr>\n",
       "      <th>2</th>\n",
       "      <td>29.323049</td>\n",
       "      <td>41</td>\n",
       "      <td>SE</td>\n",
       "      <td>No, never</td>\n",
       "      <td>University</td>\n",
       "      <td>Several times during the night</td>\n",
       "      <td>4</td>\n",
       "      <td>not_pregnant</td>\n",
       "      <td>0.298246</td>\n",
       "      <td>27.666667</td>\n",
       "      <td>2.503331</td>\n",
       "      <td>True</td>\n",
       "      <td>0.149123</td>\n",
       "      <td>False</td>\n",
       "    </tr>\n",
       "    <tr>\n",
       "      <th>3</th>\n",
       "      <td>24.386526</td>\n",
       "      <td>27</td>\n",
       "      <td>SE</td>\n",
       "      <td>No, never</td>\n",
       "      <td>High school</td>\n",
       "      <td>Wake same every workday</td>\n",
       "      <td>2</td>\n",
       "      <td>pregnant</td>\n",
       "      <td>0.895833</td>\n",
       "      <td>24.250000</td>\n",
       "      <td>3.453776</td>\n",
       "      <td>True</td>\n",
       "      <td>0.145833</td>\n",
       "      <td>True</td>\n",
       "    </tr>\n",
       "    <tr>\n",
       "      <th>4</th>\n",
       "      <td>29.299971</td>\n",
       "      <td>29</td>\n",
       "      <td>SE</td>\n",
       "      <td>No, never</td>\n",
       "      <td>Trade/technical/vocational training</td>\n",
       "      <td>Wake same every day</td>\n",
       "      <td>2</td>\n",
       "      <td>pregnant</td>\n",
       "      <td>0.666667</td>\n",
       "      <td>25.466667</td>\n",
       "      <td>0.990430</td>\n",
       "      <td>True</td>\n",
       "      <td>0.254902</td>\n",
       "      <td>True</td>\n",
       "    </tr>\n",
       "    <tr>\n",
       "      <th>...</th>\n",
       "      <td>...</td>\n",
       "      <td>...</td>\n",
       "      <td>...</td>\n",
       "      <td>...</td>\n",
       "      <td>...</td>\n",
       "      <td>...</td>\n",
       "      <td>...</td>\n",
       "      <td>...</td>\n",
       "      <td>...</td>\n",
       "      <td>...</td>\n",
       "      <td>...</td>\n",
       "      <td>...</td>\n",
       "      <td>...</td>\n",
       "      <td>...</td>\n",
       "    </tr>\n",
       "    <tr>\n",
       "      <th>1990</th>\n",
       "      <td>24.867781</td>\n",
       "      <td>36</td>\n",
       "      <td>GB</td>\n",
       "      <td>Yes, once</td>\n",
       "      <td>PhD</td>\n",
       "      <td>Unreported</td>\n",
       "      <td>1</td>\n",
       "      <td>not_pregnant</td>\n",
       "      <td>0.000000</td>\n",
       "      <td>30.250000</td>\n",
       "      <td>2.061553</td>\n",
       "      <td>True</td>\n",
       "      <td>0.000000</td>\n",
       "      <td>False</td>\n",
       "    </tr>\n",
       "    <tr>\n",
       "      <th>1991</th>\n",
       "      <td>21.616406</td>\n",
       "      <td>32</td>\n",
       "      <td>GB</td>\n",
       "      <td>No, never</td>\n",
       "      <td>Unreported</td>\n",
       "      <td>Wake same every workday</td>\n",
       "      <td>2</td>\n",
       "      <td>pregnant</td>\n",
       "      <td>0.843750</td>\n",
       "      <td>31.166667</td>\n",
       "      <td>2.483277</td>\n",
       "      <td>True</td>\n",
       "      <td>0.000000</td>\n",
       "      <td>True</td>\n",
       "    </tr>\n",
       "    <tr>\n",
       "      <th>1992</th>\n",
       "      <td>24.218750</td>\n",
       "      <td>23</td>\n",
       "      <td>SE</td>\n",
       "      <td>Unreported</td>\n",
       "      <td>High school</td>\n",
       "      <td>Wake same every workday</td>\n",
       "      <td>20</td>\n",
       "      <td>not_pregnant</td>\n",
       "      <td>0.540187</td>\n",
       "      <td>26.629630</td>\n",
       "      <td>1.620735</td>\n",
       "      <td>True</td>\n",
       "      <td>0.050467</td>\n",
       "      <td>False</td>\n",
       "    </tr>\n",
       "    <tr>\n",
       "      <th>1993</th>\n",
       "      <td>21.453574</td>\n",
       "      <td>30</td>\n",
       "      <td>FI</td>\n",
       "      <td>No, never</td>\n",
       "      <td>University</td>\n",
       "      <td>Wake same every workday</td>\n",
       "      <td>1</td>\n",
       "      <td>not_pregnant</td>\n",
       "      <td>0.000000</td>\n",
       "      <td>38.600000</td>\n",
       "      <td>41.126634</td>\n",
       "      <td>False</td>\n",
       "      <td>0.000000</td>\n",
       "      <td>False</td>\n",
       "    </tr>\n",
       "    <tr>\n",
       "      <th>1994</th>\n",
       "      <td>19.948690</td>\n",
       "      <td>29</td>\n",
       "      <td>SE</td>\n",
       "      <td>No, never</td>\n",
       "      <td>University</td>\n",
       "      <td>Wake same every workday</td>\n",
       "      <td>2</td>\n",
       "      <td>pregnant</td>\n",
       "      <td>0.779661</td>\n",
       "      <td>29.909091</td>\n",
       "      <td>2.119177</td>\n",
       "      <td>True</td>\n",
       "      <td>0.305085</td>\n",
       "      <td>True</td>\n",
       "    </tr>\n",
       "  </tbody>\n",
       "</table>\n",
       "<p>1995 rows × 14 columns</p>\n",
       "</div>"
      ],
      "text/plain": [
       "            bmi  age     country been_pregnant_before  \\\n",
       "0     22.942130   31          SE            No, never   \n",
       "1     19.886054   34  Unreported           Unreported   \n",
       "2     29.323049   41          SE            No, never   \n",
       "3     24.386526   27          SE            No, never   \n",
       "4     29.299971   29          SE            No, never   \n",
       "...         ...  ...         ...                  ...   \n",
       "1990  24.867781   36          GB            Yes, once   \n",
       "1991  21.616406   32          GB            No, never   \n",
       "1992  24.218750   23          SE           Unreported   \n",
       "1993  21.453574   30          FI            No, never   \n",
       "1994  19.948690   29          SE            No, never   \n",
       "\n",
       "                                education                sleeping_pattern  \\\n",
       "0                              University         Wake same every workday   \n",
       "1                              University                      Unreported   \n",
       "2                              University  Several times during the night   \n",
       "3                             High school         Wake same every workday   \n",
       "4     Trade/technical/vocational training             Wake same every day   \n",
       "...                                   ...                             ...   \n",
       "1990                                  PhD                      Unreported   \n",
       "1991                           Unreported         Wake same every workday   \n",
       "1992                          High school         Wake same every workday   \n",
       "1993                           University         Wake same every workday   \n",
       "1994                           University         Wake same every workday   \n",
       "\n",
       "      n_cycles_trying       outcome  dedication  average_cycle_length  \\\n",
       "0                   1      pregnant    0.640000             25.588235   \n",
       "1                   7      pregnant    0.009569             30.875000   \n",
       "2                   4  not_pregnant    0.298246             27.666667   \n",
       "3                   2      pregnant    0.895833             24.250000   \n",
       "4                   2      pregnant    0.666667             25.466667   \n",
       "...               ...           ...         ...                   ...   \n",
       "1990                1  not_pregnant    0.000000             30.250000   \n",
       "1991                2      pregnant    0.843750             31.166667   \n",
       "1992               20  not_pregnant    0.540187             26.629630   \n",
       "1993                1  not_pregnant    0.000000             38.600000   \n",
       "1994                2      pregnant    0.779661             29.909091   \n",
       "\n",
       "      cycle_length_std  regular_cycle  intercourse_frequency  pregnant  \n",
       "0             2.526332           True               0.200000      True  \n",
       "1             3.522884           True               0.052632      True  \n",
       "2             2.503331           True               0.149123     False  \n",
       "3             3.453776           True               0.145833      True  \n",
       "4             0.990430           True               0.254902      True  \n",
       "...                ...            ...                    ...       ...  \n",
       "1990          2.061553           True               0.000000     False  \n",
       "1991          2.483277           True               0.000000      True  \n",
       "1992          1.620735           True               0.050467     False  \n",
       "1993         41.126634          False               0.000000     False  \n",
       "1994          2.119177           True               0.305085      True  \n",
       "\n",
       "[1995 rows x 14 columns]"
      ]
     },
     "execution_count": 95,
     "metadata": {},
     "output_type": "execute_result"
    }
   ],
   "source": [
    "df"
   ]
  },
  {
   "cell_type": "markdown",
   "id": "87f2a159",
   "metadata": {},
   "source": [
    "A total of 1995 women are included in the data set, of which 1148 achieved conception by the conclusion"
   ]
  },
  {
   "cell_type": "code",
   "execution_count": 239,
   "id": "64eae236",
   "metadata": {},
   "outputs": [
    {
     "name": "stdout",
     "output_type": "stream",
     "text": [
      "Total number pregnant 1148 fraction concieving 0.5754\n"
     ]
    }
   ],
   "source": [
    "n_pregnant = np.count_nonzero(df[\"pregnant\"] & (df[\"n_cycles_trying\"] <= 13))\n",
    "print(\"Total number pregnant\", n_pregnant, \"fraction concieving\", round(n_pregnant/len(df), 4))"
   ]
  },
  {
   "cell_type": "markdown",
   "id": "c725d08e",
   "metadata": {},
   "source": [
    "The following histogram shows the total number of women achieving pregnancy in each one-cycle period considered in the study."
   ]
  },
  {
   "cell_type": "code",
   "execution_count": 230,
   "id": "3d88aba1",
   "metadata": {},
   "outputs": [
    {
     "data": {
      "text/plain": [
       "Text(0.5, 0, '$n_{cycles}$')"
      ]
     },
     "execution_count": 230,
     "metadata": {},
     "output_type": "execute_result"
    },
    {
     "data": {
      "image/png": "[encoded data removed]",
      "text/plain": [
       "<Figure size 432x288 with 1 Axes>"
      ]
     },
     "metadata": {
      "needs_background": "light"
     },
     "output_type": "display_data"
    }
   ],
   "source": [
    "hpreg = hist.Hist(hist.axis.Regular(20, 0, 20, name=\"n_cycles\")).fill(df[df[\"outcome\"] == \"pregnant\"][\"n_cycles_trying\"])\n",
    "hpreg.plot(color='purple')\n",
    "plt.ylabel(\"$n_{pregnant}$ in $(n_{cycles-1}, n_{cycles})$\")\n",
    "plt.xlabel(\"$n_{cycles}$\")"
   ]
  },
  {
   "cell_type": "markdown",
   "id": "31bcd94e",
   "metadata": {},
   "source": [
    "The cumulative number of women concieving within $n_{cycles}$ is shown below. A total of 1148 women have concieved by cycle 13."
   ]
  },
  {
   "cell_type": "code",
   "execution_count": 231,
   "id": "4fb0d8cb",
   "metadata": {},
   "outputs": [
    {
     "data": {
      "text/plain": [
       "Text(0.5, 0, '$n_{cycles}$')"
      ]
     },
     "execution_count": 231,
     "metadata": {},
     "output_type": "execute_result"
    },
    {
     "data": {
      "image/png": "[encoded data removed]",
      "text/plain": [
       "<Figure size 432x288 with 1 Axes>"
      ]
     },
     "metadata": {
      "needs_background": "light"
     },
     "output_type": "display_data"
    }
   ],
   "source": [
    "hcumul = hpreg.copy()\n",
    "hcumul[...] = np.cumsum(hpreg.values(flow=True))\n",
    "hcumul.plot(yerr=False, color='purple')\n",
    "plt.ylabel(\"$N_{pregnant}$ after $n_{cycles}$\")\n",
    "plt.xlabel(\"$n_{cycles}$\")"
   ]
  },
  {
   "cell_type": "markdown",
   "id": "bafe70cc",
   "metadata": {},
   "source": [
    "The histogram below shows the distribution of $n_{cycles}$ for participants who do not achieve conception. When this is is less than the duration of the study, it implies that the particpant has dropped out. This means that the 58% of participants concieving does not give an accurate estimate for the rate of pregnancy within 13 cycles. "
   ]
  },
  {
   "cell_type": "code",
   "execution_count": 233,
   "id": "1ca76e2b",
   "metadata": {},
   "outputs": [
    {
     "data": {
      "text/plain": [
       "Text(0.5, 0, '$n_{cycles,trying}$')"
      ]
     },
     "execution_count": 233,
     "metadata": {},
     "output_type": "execute_result"
    },
    {
     "data": {
      "image/png": "[encoded data removed]",
      "text/plain": [
       "<Figure size 432x288 with 1 Axes>"
      ]
     },
     "metadata": {
      "needs_background": "light"
     },
     "output_type": "display_data"
    }
   ],
   "source": [
    "hnon = hist.Hist(hist.axis.Regular(13, 0.5, 13.5, name=\"n_cycles\")).fill(df[df[\"outcome\"] == \"not_pregnant\"][\"n_cycles_trying\"])\n",
    "fig = hnon.plot(color='purple')\n",
    "plt.ylabel(\"$N_{particpants}$\")\n",
    "plt.xlabel(\"$n_{cycles,trying}$\")"
   ]
  },
  {
   "cell_type": "markdown",
   "id": "cfc534c9",
   "metadata": {},
   "source": [
    "683 women have $n_{cycles,trying} < 13$. Excluding them from the data set, 87.5% of the women completing the study have achieved conception. However, this clearly overestimates the rate of conception for the general population."
   ]
  },
  {
   "cell_type": "code",
   "execution_count": 241,
   "id": "c5200648",
   "metadata": {},
   "outputs": [
    {
     "name": "stdout",
     "output_type": "stream",
     "text": [
      "Number not completing study 683\n",
      "Fraction of those completeting the full study achieving pregnancy after 13 weeks 0.875\n"
     ]
    }
   ],
   "source": [
    "n_exclude = np.count_nonzero((df[\"outcome\"] == \"not_pregnant\") & (df[\"n_cycles_trying\"] < 13))\n",
    "print(\"Number not completing study\", n_exclude)\n",
    "print(\"Fraction of those completeting the full study achieving pregnancy after 13 weeks\", round(n_pregnant/(len(df)-n_exclude), 4))"
   ]
  },
  {
   "cell_type": "markdown",
   "id": "246f9791",
   "metadata": {},
   "source": [
    "The gradual loss of participants in the study can be acounted for by using the Kaplan-Meier estimator (Kaplan, E. L.; Meier, P. (1958)), as suggpested in the highly relevant study of (Carlotta Favaro et al. 2021). The Kaplan-Meier estimator computes the non-survival (non-pregnancy) rate on a rolling basis, where each time slice (here, each period of 1 cycle) is computed based on the fraction of participants which remain. The total non-pregnancy probability can then be computed as the product of the individual time slice probabilities contributing to the relevant window (here, $\\prod_{i=0}^{13}S_{i}$)"
   ]
  },
  {
   "cell_type": "markdown",
   "id": "a5b190c1",
   "metadata": {},
   "source": [
    "First compute the number of participants for each one-cycle period, separating between all participants and those which achieved pregnancy"
   ]
  },
  {
   "cell_type": "code",
   "execution_count": 111,
   "id": "691502d2",
   "metadata": {},
   "outputs": [],
   "source": [
    "counts_trying = df[\"n_cycles_trying\"].value_counts()\n",
    "counts_concieved = df.loc[df[\"pregnant\"], \"n_cycles_trying\"].value_counts()"
   ]
  },
  {
   "cell_type": "code",
   "execution_count": 126,
   "id": "072e2908",
   "metadata": {},
   "outputs": [],
   "source": [
    "# Remaining is the sum of all people with n_cycles_trying < the given period \n",
    "remaining = np.full(counts_trying.shape, counts_trying.sum())\n",
    "remaining[1:] = remaining[1:] - counts_trying.cumsum()[:-1]"
   ]
  },
  {
   "cell_type": "markdown",
   "id": "80e8f938",
   "metadata": {},
   "source": [
    "Compute the Kaplan-Meier estimator 1-$d_i/n_i$, where $d_i$ is the number of pregnancies \n",
    "at time $i$ and $n_i$ is the number of particpants up to $t_i$. This effectively gives the\n",
    "probability of non-pregnancy in the time slice $(t_{i-1}, t_i)$"
   ]
  },
  {
   "cell_type": "code",
   "execution_count": 175,
   "id": "4cfb30c0",
   "metadata": {},
   "outputs": [
    {
     "data": {
      "text/html": [
       "<div>\n",
       "<style scoped>\n",
       "    .dataframe tbody tr th:only-of-type {\n",
       "        vertical-align: middle;\n",
       "    }\n",
       "\n",
       "    .dataframe tbody tr th {\n",
       "        vertical-align: top;\n",
       "    }\n",
       "\n",
       "    .dataframe thead th {\n",
       "        text-align: right;\n",
       "    }\n",
       "</style>\n",
       "<table border=\"1\" class=\"dataframe\">\n",
       "  <thead>\n",
       "    <tr style=\"text-align: right;\">\n",
       "      <th></th>\n",
       "      <th>n_cycles_trying</th>\n",
       "    </tr>\n",
       "  </thead>\n",
       "  <tbody>\n",
       "    <tr>\n",
       "      <th>1</th>\n",
       "      <td>0.824561</td>\n",
       "    </tr>\n",
       "    <tr>\n",
       "      <th>2</th>\n",
       "      <td>0.844746</td>\n",
       "    </tr>\n",
       "    <tr>\n",
       "      <th>3</th>\n",
       "      <td>0.842617</td>\n",
       "    </tr>\n",
       "    <tr>\n",
       "      <th>4</th>\n",
       "      <td>0.879769</td>\n",
       "    </tr>\n",
       "    <tr>\n",
       "      <th>5</th>\n",
       "      <td>0.893218</td>\n",
       "    </tr>\n",
       "    <tr>\n",
       "      <th>6</th>\n",
       "      <td>0.903282</td>\n",
       "    </tr>\n",
       "    <tr>\n",
       "      <th>7</th>\n",
       "      <td>0.894292</td>\n",
       "    </tr>\n",
       "    <tr>\n",
       "      <th>8</th>\n",
       "      <td>0.931646</td>\n",
       "    </tr>\n",
       "    <tr>\n",
       "      <th>9</th>\n",
       "      <td>0.925373</td>\n",
       "    </tr>\n",
       "    <tr>\n",
       "      <th>10</th>\n",
       "      <td>0.944056</td>\n",
       "    </tr>\n",
       "    <tr>\n",
       "      <th>11</th>\n",
       "      <td>0.934694</td>\n",
       "    </tr>\n",
       "    <tr>\n",
       "      <th>12</th>\n",
       "      <td>0.927885</td>\n",
       "    </tr>\n",
       "    <tr>\n",
       "      <th>13</th>\n",
       "      <td>0.953488</td>\n",
       "    </tr>\n",
       "  </tbody>\n",
       "</table>\n",
       "</div>"
      ],
      "text/plain": [
       "    n_cycles_trying\n",
       "1          0.824561\n",
       "2          0.844746\n",
       "3          0.842617\n",
       "4          0.879769\n",
       "5          0.893218\n",
       "6          0.903282\n",
       "7          0.894292\n",
       "8          0.931646\n",
       "9          0.925373\n",
       "10         0.944056\n",
       "11         0.934694\n",
       "12         0.927885\n",
       "13         0.953488"
      ]
     },
     "execution_count": 175,
     "metadata": {},
     "output_type": "execute_result"
    }
   ],
   "source": [
    "kaplan_meier_probs = 1-counts_concieved/remaining[:len(counts_concieved)]\n",
    "pd.DataFrame(kaplan_meier_probs)"
   ]
  },
  {
   "cell_type": "markdown",
   "id": "f236510c",
   "metadata": {},
   "source": [
    "The probability to not get pregnant in time slice $(t_i, t_{i+1})$ is the product of the per-slice probabilities."
   ]
  },
  {
   "cell_type": "code",
   "execution_count": 176,
   "id": "e2f37652",
   "metadata": {},
   "outputs": [
    {
     "data": {
      "text/html": [
       "<div>\n",
       "<style scoped>\n",
       "    .dataframe tbody tr th:only-of-type {\n",
       "        vertical-align: middle;\n",
       "    }\n",
       "\n",
       "    .dataframe tbody tr th {\n",
       "        vertical-align: top;\n",
       "    }\n",
       "\n",
       "    .dataframe thead th {\n",
       "        text-align: right;\n",
       "    }\n",
       "</style>\n",
       "<table border=\"1\" class=\"dataframe\">\n",
       "  <thead>\n",
       "    <tr style=\"text-align: right;\">\n",
       "      <th></th>\n",
       "      <th>n_cycles_trying</th>\n",
       "    </tr>\n",
       "  </thead>\n",
       "  <tbody>\n",
       "    <tr>\n",
       "      <th>1</th>\n",
       "      <td>0.824561</td>\n",
       "    </tr>\n",
       "    <tr>\n",
       "      <th>2</th>\n",
       "      <td>0.696545</td>\n",
       "    </tr>\n",
       "    <tr>\n",
       "      <th>3</th>\n",
       "      <td>0.586921</td>\n",
       "    </tr>\n",
       "    <tr>\n",
       "      <th>4</th>\n",
       "      <td>0.516354</td>\n",
       "    </tr>\n",
       "    <tr>\n",
       "      <th>5</th>\n",
       "      <td>0.461217</td>\n",
       "    </tr>\n",
       "    <tr>\n",
       "      <th>6</th>\n",
       "      <td>0.416609</td>\n",
       "    </tr>\n",
       "    <tr>\n",
       "      <th>7</th>\n",
       "      <td>0.372570</td>\n",
       "    </tr>\n",
       "    <tr>\n",
       "      <th>8</th>\n",
       "      <td>0.347103</td>\n",
       "    </tr>\n",
       "    <tr>\n",
       "      <th>9</th>\n",
       "      <td>0.321200</td>\n",
       "    </tr>\n",
       "    <tr>\n",
       "      <th>10</th>\n",
       "      <td>0.303231</td>\n",
       "    </tr>\n",
       "    <tr>\n",
       "      <th>11</th>\n",
       "      <td>0.283428</td>\n",
       "    </tr>\n",
       "    <tr>\n",
       "      <th>12</th>\n",
       "      <td>0.262988</td>\n",
       "    </tr>\n",
       "    <tr>\n",
       "      <th>13</th>\n",
       "      <td>0.250756</td>\n",
       "    </tr>\n",
       "  </tbody>\n",
       "</table>\n",
       "</div>"
      ],
      "text/plain": [
       "    n_cycles_trying\n",
       "1          0.824561\n",
       "2          0.696545\n",
       "3          0.586921\n",
       "4          0.516354\n",
       "5          0.461217\n",
       "6          0.416609\n",
       "7          0.372570\n",
       "8          0.347103\n",
       "9          0.321200\n",
       "10         0.303231\n",
       "11         0.283428\n",
       "12         0.262988\n",
       "13         0.250756"
      ]
     },
     "execution_count": 176,
     "metadata": {},
     "output_type": "execute_result"
    }
   ],
   "source": [
    "pd.DataFrame(np.cumprod(kaplan_meier_probs))"
   ]
  },
  {
   "cell_type": "markdown",
   "id": "2cd533d7",
   "metadata": {},
   "source": [
    "Of course, it's easier to use a python package directly.\n",
    "Using here the package lifetimes. Which will compute everything\n",
    "above, as well as confidence intervals, with only the data needed as input"
   ]
  },
  {
   "cell_type": "code",
   "execution_count": null,
   "id": "0398fb0f",
   "metadata": {},
   "outputs": [],
   "source": [
    "kmf_all = KaplanMeierFitter()"
   ]
  },
  {
   "cell_type": "code",
   "execution_count": 145,
   "id": "7d252fec",
   "metadata": {},
   "outputs": [
    {
     "data": {
      "text/plain": [
       "<lifelines.KaplanMeierFitter:\"KM_estimate\", fitted with 1995 total observations, 847 right-censored observations>"
      ]
     },
     "execution_count": 145,
     "metadata": {},
     "output_type": "execute_result"
    }
   ],
   "source": [
    "kmf_all.fit(df[\"n_cycles_trying\"], event_observed=df[\"pregnant\"])"
   ]
  },
  {
   "cell_type": "code",
   "execution_count": 146,
   "id": "cc49238a",
   "metadata": {},
   "outputs": [
    {
     "data": {
      "text/html": [
       "<div>\n",
       "<style scoped>\n",
       "    .dataframe tbody tr th:only-of-type {\n",
       "        vertical-align: middle;\n",
       "    }\n",
       "\n",
       "    .dataframe tbody tr th {\n",
       "        vertical-align: top;\n",
       "    }\n",
       "\n",
       "    .dataframe thead th {\n",
       "        text-align: right;\n",
       "    }\n",
       "</style>\n",
       "<table border=\"1\" class=\"dataframe\">\n",
       "  <thead>\n",
       "    <tr style=\"text-align: right;\">\n",
       "      <th></th>\n",
       "      <th>KM_estimate</th>\n",
       "    </tr>\n",
       "    <tr>\n",
       "      <th>timeline</th>\n",
       "      <th></th>\n",
       "    </tr>\n",
       "  </thead>\n",
       "  <tbody>\n",
       "    <tr>\n",
       "      <th>0.0</th>\n",
       "      <td>1.000000</td>\n",
       "    </tr>\n",
       "    <tr>\n",
       "      <th>1.0</th>\n",
       "      <td>0.824561</td>\n",
       "    </tr>\n",
       "    <tr>\n",
       "      <th>2.0</th>\n",
       "      <td>0.696545</td>\n",
       "    </tr>\n",
       "    <tr>\n",
       "      <th>3.0</th>\n",
       "      <td>0.586921</td>\n",
       "    </tr>\n",
       "    <tr>\n",
       "      <th>4.0</th>\n",
       "      <td>0.516354</td>\n",
       "    </tr>\n",
       "    <tr>\n",
       "      <th>5.0</th>\n",
       "      <td>0.461217</td>\n",
       "    </tr>\n",
       "    <tr>\n",
       "      <th>6.0</th>\n",
       "      <td>0.416609</td>\n",
       "    </tr>\n",
       "    <tr>\n",
       "      <th>7.0</th>\n",
       "      <td>0.372570</td>\n",
       "    </tr>\n",
       "    <tr>\n",
       "      <th>8.0</th>\n",
       "      <td>0.347103</td>\n",
       "    </tr>\n",
       "    <tr>\n",
       "      <th>9.0</th>\n",
       "      <td>0.321200</td>\n",
       "    </tr>\n",
       "    <tr>\n",
       "      <th>10.0</th>\n",
       "      <td>0.303231</td>\n",
       "    </tr>\n",
       "    <tr>\n",
       "      <th>11.0</th>\n",
       "      <td>0.283428</td>\n",
       "    </tr>\n",
       "    <tr>\n",
       "      <th>12.0</th>\n",
       "      <td>0.263086</td>\n",
       "    </tr>\n",
       "    <tr>\n",
       "      <th>13.0</th>\n",
       "      <td>0.250849</td>\n",
       "    </tr>\n",
       "    <tr>\n",
       "      <th>14.0</th>\n",
       "      <td>0.250849</td>\n",
       "    </tr>\n",
       "    <tr>\n",
       "      <th>15.0</th>\n",
       "      <td>0.250849</td>\n",
       "    </tr>\n",
       "    <tr>\n",
       "      <th>16.0</th>\n",
       "      <td>0.250849</td>\n",
       "    </tr>\n",
       "    <tr>\n",
       "      <th>17.0</th>\n",
       "      <td>0.250849</td>\n",
       "    </tr>\n",
       "    <tr>\n",
       "      <th>18.0</th>\n",
       "      <td>0.250849</td>\n",
       "    </tr>\n",
       "    <tr>\n",
       "      <th>19.0</th>\n",
       "      <td>0.250849</td>\n",
       "    </tr>\n",
       "    <tr>\n",
       "      <th>20.0</th>\n",
       "      <td>0.250849</td>\n",
       "    </tr>\n",
       "    <tr>\n",
       "      <th>21.0</th>\n",
       "      <td>0.250849</td>\n",
       "    </tr>\n",
       "    <tr>\n",
       "      <th>22.0</th>\n",
       "      <td>0.250849</td>\n",
       "    </tr>\n",
       "    <tr>\n",
       "      <th>23.0</th>\n",
       "      <td>0.250849</td>\n",
       "    </tr>\n",
       "    <tr>\n",
       "      <th>24.0</th>\n",
       "      <td>0.250849</td>\n",
       "    </tr>\n",
       "    <tr>\n",
       "      <th>25.0</th>\n",
       "      <td>0.250849</td>\n",
       "    </tr>\n",
       "    <tr>\n",
       "      <th>26.0</th>\n",
       "      <td>0.250849</td>\n",
       "    </tr>\n",
       "  </tbody>\n",
       "</table>\n",
       "</div>"
      ],
      "text/plain": [
       "          KM_estimate\n",
       "timeline             \n",
       "0.0          1.000000\n",
       "1.0          0.824561\n",
       "2.0          0.696545\n",
       "3.0          0.586921\n",
       "4.0          0.516354\n",
       "5.0          0.461217\n",
       "6.0          0.416609\n",
       "7.0          0.372570\n",
       "8.0          0.347103\n",
       "9.0          0.321200\n",
       "10.0         0.303231\n",
       "11.0         0.283428\n",
       "12.0         0.263086\n",
       "13.0         0.250849\n",
       "14.0         0.250849\n",
       "15.0         0.250849\n",
       "16.0         0.250849\n",
       "17.0         0.250849\n",
       "18.0         0.250849\n",
       "19.0         0.250849\n",
       "20.0         0.250849\n",
       "21.0         0.250849\n",
       "22.0         0.250849\n",
       "23.0         0.250849\n",
       "24.0         0.250849\n",
       "25.0         0.250849\n",
       "26.0         0.250849"
      ]
     },
     "execution_count": 146,
     "metadata": {},
     "output_type": "execute_result"
    }
   ],
   "source": [
    "# The result is in agreement with the manual computation\n",
    "kmf_all.survival_function_"
   ]
  },
  {
   "cell_type": "code",
   "execution_count": null,
   "id": "f25a177e",
   "metadata": {},
   "outputs": [],
   "source": []
  },
  {
   "cell_type": "code",
   "execution_count": 149,
   "id": "0db40aa1",
   "metadata": {},
   "outputs": [
    {
     "data": {
      "text/plain": [
       "Text(0, 0.5, 'Probability of non-conception')"
      ]
     },
     "execution_count": 149,
     "metadata": {},
     "output_type": "execute_result"
    },
    {
     "data": {
      "image/png": "[encoded data removed]",
      "text/plain": [
       "<Figure size 432x288 with 1 Axes>"
      ]
     },
     "metadata": {
      "needs_background": "light"
     },
     "output_type": "display_data"
    }
   ],
   "source": [
    "kmf_all.plot_survival_function()\n",
    "plt.xlabel(\"Number of cycles\")\n",
    "plt.ylabel(\"Probability of non-conception\")"
   ]
  },
  {
   "cell_type": "code",
   "execution_count": 150,
   "id": "feb2b836",
   "metadata": {},
   "outputs": [
    {
     "data": {
      "text/plain": [
       "Text(0, 0.5, 'Probability of conception')"
      ]
     },
     "execution_count": 150,
     "metadata": {},
     "output_type": "execute_result"
    },
    {
     "data": {
      "image/png": "[encoded data removed]",
      "text/plain": [
       "<Figure size 432x288 with 1 Axes>"
      ]
     },
     "metadata": {
      "needs_background": "light"
     },
     "output_type": "display_data"
    }
   ],
   "source": [
    "kmf_all.plot_cumulative_density()\n",
    "plt.xlabel(\"Number of cycles\")\n",
    "plt.ylabel(\"Probability of conception\")"
   ]
  },
  {
   "cell_type": "code",
   "execution_count": 185,
   "id": "8687adaf",
   "metadata": {},
   "outputs": [
    {
     "name": "stdout",
     "output_type": "stream",
     "text": [
      "Probability of concieving in <= 13 cycles = 0.749150511801471\n"
     ]
    }
   ],
   "source": [
    "print(\"Probability of concieving in <= 13 cycles =\", float(1-kmf.survival_function_at_times(13)))"
   ]
  },
  {
   "cell_type": "code",
   "execution_count": 263,
   "id": "9e5dd17d",
   "metadata": {},
   "outputs": [
    {
     "name": "stdout",
     "output_type": "stream",
     "text": [
      "The 95% confidence level range for concieving within 13 cycles is KM_estimate_lower_0.95    0.774465\n",
      "KM_estimate_upper_0.95    0.723107\n",
      "Name: 13.0, dtype: float64\n"
     ]
    }
   ],
   "source": [
    "print(\"The 95% confidence level range for concieving within 13 cycles is\", 1-kmf.confidence_interval_.iloc[13,:])"
   ]
  },
  {
   "cell_type": "markdown",
   "id": "cc191929",
   "metadata": {},
   "source": [
    "The best median time to pregnancy is a more reliable estimator of the expected time to pregnancy for this sample than, e.g., the mean, because the mean suffers from long tails that exceed the length of the study. The median value can be evaluated from the Kaplan-Meier curve. It is given by the time period in which the non-survival probability drops below 50%. In this analysis, the median time is 5 cycles. This slightly exceeds the observation of 4 cycles in (Favaro et al. 2021). Differences in the composition of the sample could account for this small difference, as well as the statistical power of the sample."
   ]
  },
  {
   "cell_type": "code",
   "execution_count": 298,
   "id": "09edc64b",
   "metadata": {},
   "outputs": [
    {
     "data": {
      "text/plain": [
       "(4    0.516354\n",
       " Name: KM_estimate, dtype: float64,\n",
       " 5    0.461217\n",
       " Name: KM_estimate, dtype: float64)"
      ]
     },
     "execution_count": 298,
     "metadata": {},
     "output_type": "execute_result"
    }
   ],
   "source": [
    "kmf_all.survival_function_at_times(4), kmf_all.survival_function_at_times(5)"
   ]
  },
  {
   "cell_type": "markdown",
   "id": "a8ec13d9",
   "metadata": {},
   "source": [
    "A rough sense of the uncertainty of this can be evaluated from the 95% confidence intervals of the Kaplan-Meier distribution. However, this cannot be directly interpreted as a confidence interval on the median."
   ]
  },
  {
   "cell_type": "code",
   "execution_count": 301,
   "id": "fb18c826",
   "metadata": {},
   "outputs": [
    {
     "data": {
      "text/html": [
       "<div>\n",
       "<style scoped>\n",
       "    .dataframe tbody tr th:only-of-type {\n",
       "        vertical-align: middle;\n",
       "    }\n",
       "\n",
       "    .dataframe tbody tr th {\n",
       "        vertical-align: top;\n",
       "    }\n",
       "\n",
       "    .dataframe thead th {\n",
       "        text-align: right;\n",
       "    }\n",
       "</style>\n",
       "<table border=\"1\" class=\"dataframe\">\n",
       "  <thead>\n",
       "    <tr style=\"text-align: right;\">\n",
       "      <th></th>\n",
       "      <th>KM_estimate_lower_0.95</th>\n",
       "      <th>KM_estimate_upper_0.95</th>\n",
       "    </tr>\n",
       "  </thead>\n",
       "  <tbody>\n",
       "    <tr>\n",
       "      <th>0.0</th>\n",
       "      <td>1.000000</td>\n",
       "      <td>1.000000</td>\n",
       "    </tr>\n",
       "    <tr>\n",
       "      <th>1.0</th>\n",
       "      <td>0.807151</td>\n",
       "      <td>0.840559</td>\n",
       "    </tr>\n",
       "    <tr>\n",
       "      <th>2.0</th>\n",
       "      <td>0.675237</td>\n",
       "      <td>0.716761</td>\n",
       "    </tr>\n",
       "    <tr>\n",
       "      <th>3.0</th>\n",
       "      <td>0.563633</td>\n",
       "      <td>0.609426</td>\n",
       "    </tr>\n",
       "    <tr>\n",
       "      <th>4.0</th>\n",
       "      <td>0.492255</td>\n",
       "      <td>0.539891</td>\n",
       "    </tr>\n",
       "    <tr>\n",
       "      <th>5.0</th>\n",
       "      <td>0.436671</td>\n",
       "      <td>0.485387</td>\n",
       "    </tr>\n",
       "    <tr>\n",
       "      <th>6.0</th>\n",
       "      <td>0.391865</td>\n",
       "      <td>0.441146</td>\n",
       "    </tr>\n",
       "    <tr>\n",
       "      <th>7.0</th>\n",
       "      <td>0.347689</td>\n",
       "      <td>0.397430</td>\n",
       "    </tr>\n",
       "    <tr>\n",
       "      <th>8.0</th>\n",
       "      <td>0.322200</td>\n",
       "      <td>0.372105</td>\n",
       "    </tr>\n",
       "    <tr>\n",
       "      <th>9.0</th>\n",
       "      <td>0.296251</td>\n",
       "      <td>0.346384</td>\n",
       "    </tr>\n",
       "    <tr>\n",
       "      <th>10.0</th>\n",
       "      <td>0.278241</td>\n",
       "      <td>0.328559</td>\n",
       "    </tr>\n",
       "    <tr>\n",
       "      <th>11.0</th>\n",
       "      <td>0.258349</td>\n",
       "      <td>0.308975</td>\n",
       "    </tr>\n",
       "    <tr>\n",
       "      <th>12.0</th>\n",
       "      <td>0.237899</td>\n",
       "      <td>0.288895</td>\n",
       "    </tr>\n",
       "    <tr>\n",
       "      <th>13.0</th>\n",
       "      <td>0.225535</td>\n",
       "      <td>0.276893</td>\n",
       "    </tr>\n",
       "    <tr>\n",
       "      <th>14.0</th>\n",
       "      <td>0.225535</td>\n",
       "      <td>0.276893</td>\n",
       "    </tr>\n",
       "    <tr>\n",
       "      <th>15.0</th>\n",
       "      <td>0.225535</td>\n",
       "      <td>0.276893</td>\n",
       "    </tr>\n",
       "    <tr>\n",
       "      <th>16.0</th>\n",
       "      <td>0.225535</td>\n",
       "      <td>0.276893</td>\n",
       "    </tr>\n",
       "    <tr>\n",
       "      <th>17.0</th>\n",
       "      <td>0.225535</td>\n",
       "      <td>0.276893</td>\n",
       "    </tr>\n",
       "    <tr>\n",
       "      <th>18.0</th>\n",
       "      <td>0.225535</td>\n",
       "      <td>0.276893</td>\n",
       "    </tr>\n",
       "    <tr>\n",
       "      <th>19.0</th>\n",
       "      <td>0.225535</td>\n",
       "      <td>0.276893</td>\n",
       "    </tr>\n",
       "    <tr>\n",
       "      <th>20.0</th>\n",
       "      <td>0.225535</td>\n",
       "      <td>0.276893</td>\n",
       "    </tr>\n",
       "    <tr>\n",
       "      <th>21.0</th>\n",
       "      <td>0.225535</td>\n",
       "      <td>0.276893</td>\n",
       "    </tr>\n",
       "    <tr>\n",
       "      <th>22.0</th>\n",
       "      <td>0.225535</td>\n",
       "      <td>0.276893</td>\n",
       "    </tr>\n",
       "    <tr>\n",
       "      <th>23.0</th>\n",
       "      <td>0.225535</td>\n",
       "      <td>0.276893</td>\n",
       "    </tr>\n",
       "    <tr>\n",
       "      <th>24.0</th>\n",
       "      <td>0.225535</td>\n",
       "      <td>0.276893</td>\n",
       "    </tr>\n",
       "    <tr>\n",
       "      <th>25.0</th>\n",
       "      <td>0.225535</td>\n",
       "      <td>0.276893</td>\n",
       "    </tr>\n",
       "    <tr>\n",
       "      <th>26.0</th>\n",
       "      <td>0.225535</td>\n",
       "      <td>0.276893</td>\n",
       "    </tr>\n",
       "  </tbody>\n",
       "</table>\n",
       "</div>"
      ],
      "text/plain": [
       "      KM_estimate_lower_0.95  KM_estimate_upper_0.95\n",
       "0.0                 1.000000                1.000000\n",
       "1.0                 0.807151                0.840559\n",
       "2.0                 0.675237                0.716761\n",
       "3.0                 0.563633                0.609426\n",
       "4.0                 0.492255                0.539891\n",
       "5.0                 0.436671                0.485387\n",
       "6.0                 0.391865                0.441146\n",
       "7.0                 0.347689                0.397430\n",
       "8.0                 0.322200                0.372105\n",
       "9.0                 0.296251                0.346384\n",
       "10.0                0.278241                0.328559\n",
       "11.0                0.258349                0.308975\n",
       "12.0                0.237899                0.288895\n",
       "13.0                0.225535                0.276893\n",
       "14.0                0.225535                0.276893\n",
       "15.0                0.225535                0.276893\n",
       "16.0                0.225535                0.276893\n",
       "17.0                0.225535                0.276893\n",
       "18.0                0.225535                0.276893\n",
       "19.0                0.225535                0.276893\n",
       "20.0                0.225535                0.276893\n",
       "21.0                0.225535                0.276893\n",
       "22.0                0.225535                0.276893\n",
       "23.0                0.225535                0.276893\n",
       "24.0                0.225535                0.276893\n",
       "25.0                0.225535                0.276893\n",
       "26.0                0.225535                0.276893"
      ]
     },
     "execution_count": 301,
     "metadata": {},
     "output_type": "execute_result"
    }
   ],
   "source": [
    "kmf_all.confidence_interval_survival_function_"
   ]
  },
  {
   "cell_type": "markdown",
   "id": "35ee251b",
   "metadata": {},
   "source": [
    "The mean time to pregnancy within the time period consider in the study is the integral of the Kaplan-Meier function"
   ]
  },
  {
   "cell_type": "code",
   "execution_count": 293,
   "id": "007caf5c",
   "metadata": {},
   "outputs": [
    {
     "data": {
      "text/plain": [
       "KM_estimate    9.904717\n",
       "dtype: float64"
      ]
     },
     "execution_count": 293,
     "metadata": {},
     "output_type": "execute_result"
    }
   ],
   "source": [
    "np.sum(kmf_all.survival_function_)"
   ]
  }
 ],
 "metadata": {
  "kernelspec": {
   "display_name": "Python 3 (ipykernel)",
   "language": "python",
   "name": "python3"
  },
  "language_info": {
   "codemirror_mode": {
    "name": "ipython",
    "version": 3
   },
   "file_extension": ".py",
   "mimetype": "text/x-python",
   "name": "python",
   "nbconvert_exporter": "python",
   "pygments_lexer": "ipython3",
   "version": "3.9.10"
  }
 },
 "nbformat": 4,
 "nbformat_minor": 5
}
